{
 "cells": [
  {
   "cell_type": "markdown",
   "metadata": {},
   "source": [
    "## Theano"
   ]
  },
  {
   "cell_type": "markdown",
   "metadata": {},
   "source": [
    "Theano is an open source numerical computations library, very efficient for fast numerical computations. \n",
    "\n",
    "And that is based on numpy syntax. But what is also great about this library, is that it can run not only on your CPU but also on your GPU.\n",
    "\n",
    "CPU means central processing unit and it's basically the main processor on your computer that is used for general purpose,\n",
    "like general tasks that are not graphic tasks.\n",
    "\n",
    "And speaking of graphic tasks, there is another processor that runs computations for that and this processor is called the GPU.\n",
    "\n",
    "So it's a processor for graphic purposes, exactly like the graphic card you have on your machine.\n",
    "\n",
    "And so, in terms of power and in terms of computation efficiency, the GPU is much more powerful because it has many more cores and it's able to run a lot more floating points calculations per second, than the CPU.\n",
    "\n",
    "Therefore, the CPU is much more specialized for highly compute-intensive tasks and parallel computations, exactly as it is the case for neural networks.\n",
    "\n",
    "When we are forward-propagating the activations of the different neurons in the neural networks, thanks to the activation functions.\n",
    "\n",
    "Well, that exactly involves parallel computations.\n",
    "\n",
    "And saying when the arrow is back-propagated in the neural network, well that involves again parallel computations. Alright, so basically, the GPU is a much better choice for neural networks, especially when you're building deep neural networks to do deep learning.\n",
    "\n",
    "But for simple neural networks, you can still use your CPU.\n",
    "\n",
    "Alright, so that's this Theano library, that by the way, was developed by a machinery group of people at the University of Montreal"
   ]
  },
  {
   "cell_type": "markdown",
   "metadata": {},
   "source": [
    "## Tensorflow"
   ]
  },
  {
   "cell_type": "markdown",
   "metadata": {},
   "source": [
    "So, Tensoflow is another open-source numerical computations library that runs very fast computations and again that can run on your CPU or your GPU.\n",
    "\n",
    "This library was originally developed by the Google brain team at Google and is now under the Apache 2.0 license.\n",
    "\n",
    "And the important thing to understand here is that these two libraries are used, mostly for research and development purposes in the deep learning field. \n",
    "\n",
    "That means that if you wanna use these two libraries for deep learning, you would use them to build a deep neural network from scratch. \n",
    "\n",
    "That is with many lines of code, which is great if you wanna do some research in order to improve the deep neural networks, invent and develop a new kind of deep neural network, or any other kind of deep learning models, but that would require a lot of lines of code.\n",
    "\n",
    "That is why, in this section, we are not going to directly use Theano and Tensoflow.\n",
    "\n",
    "We're gonna use another library that, in some way, wraps the libraries here, Theano and Tensoflow.\n",
    "\n"
   ]
  },
  {
   "cell_type": "markdown",
   "metadata": {},
   "source": [
    "## Keras"
   ]
  },
  {
   "cell_type": "markdown",
   "metadata": {},
   "source": [
    "And this library is, as you might have guessed, the Keras library. The Keras library is an amazing library to build deep learning models like deep neural networks in a very few lines of code.\n",
    "\n",
    "since we're gonna build very powerful deep neural networks with only a few lines of code and that is only thanks to this Keras library.\n",
    "\n",
    "This library was developed by François Chollet, a machine learning scientist again at Google.\n",
    "\n",
    "Keras is a library based on Theano and Tensoflow, that means that it runs on Theano and Tensoflow libraries and exactly as we use scikit-learn to build very efficiently machine learning models, we will use Keras to build deep learning models very efficiently."
   ]
  },
  {
   "cell_type": "markdown",
   "metadata": {},
   "source": [
    "# 1- Data Preprocessing"
   ]
  },
  {
   "cell_type": "markdown",
   "metadata": {},
   "source": [
    "## Importing the Libraries"
   ]
  },
  {
   "cell_type": "code",
   "execution_count": 1,
   "metadata": {},
   "outputs": [],
   "source": [
    "import numpy as np\n",
    "import pandas as pd\n",
    "import matplotlib.pyplot as plt\n",
    "import seaborn as sns"
   ]
  },
  {
   "cell_type": "markdown",
   "metadata": {},
   "source": [
    "## Importing the dataset"
   ]
  },
  {
   "cell_type": "code",
   "execution_count": 2,
   "metadata": {},
   "outputs": [],
   "source": [
    "dataset = pd.read_csv('Churn_Modelling.csv')"
   ]
  },
  {
   "cell_type": "code",
   "execution_count": 3,
   "metadata": {},
   "outputs": [
    {
     "data": {
      "text/html": [
       "<div>\n",
       "<style scoped>\n",
       "    .dataframe tbody tr th:only-of-type {\n",
       "        vertical-align: middle;\n",
       "    }\n",
       "\n",
       "    .dataframe tbody tr th {\n",
       "        vertical-align: top;\n",
       "    }\n",
       "\n",
       "    .dataframe thead th {\n",
       "        text-align: right;\n",
       "    }\n",
       "</style>\n",
       "<table border=\"1\" class=\"dataframe\">\n",
       "  <thead>\n",
       "    <tr style=\"text-align: right;\">\n",
       "      <th></th>\n",
       "      <th>RowNumber</th>\n",
       "      <th>CustomerId</th>\n",
       "      <th>Surname</th>\n",
       "      <th>CreditScore</th>\n",
       "      <th>Geography</th>\n",
       "      <th>Gender</th>\n",
       "      <th>Age</th>\n",
       "      <th>Tenure</th>\n",
       "      <th>Balance</th>\n",
       "      <th>NumOfProducts</th>\n",
       "      <th>HasCrCard</th>\n",
       "      <th>IsActiveMember</th>\n",
       "      <th>EstimatedSalary</th>\n",
       "      <th>Exited</th>\n",
       "    </tr>\n",
       "  </thead>\n",
       "  <tbody>\n",
       "    <tr>\n",
       "      <th>0</th>\n",
       "      <td>1</td>\n",
       "      <td>15634602</td>\n",
       "      <td>Hargrave</td>\n",
       "      <td>619</td>\n",
       "      <td>France</td>\n",
       "      <td>Female</td>\n",
       "      <td>42</td>\n",
       "      <td>2</td>\n",
       "      <td>0.00</td>\n",
       "      <td>1</td>\n",
       "      <td>1</td>\n",
       "      <td>1</td>\n",
       "      <td>101348.88</td>\n",
       "      <td>1</td>\n",
       "    </tr>\n",
       "    <tr>\n",
       "      <th>1</th>\n",
       "      <td>2</td>\n",
       "      <td>15647311</td>\n",
       "      <td>Hill</td>\n",
       "      <td>608</td>\n",
       "      <td>Spain</td>\n",
       "      <td>Female</td>\n",
       "      <td>41</td>\n",
       "      <td>1</td>\n",
       "      <td>83807.86</td>\n",
       "      <td>1</td>\n",
       "      <td>0</td>\n",
       "      <td>1</td>\n",
       "      <td>112542.58</td>\n",
       "      <td>0</td>\n",
       "    </tr>\n",
       "    <tr>\n",
       "      <th>2</th>\n",
       "      <td>3</td>\n",
       "      <td>15619304</td>\n",
       "      <td>Onio</td>\n",
       "      <td>502</td>\n",
       "      <td>France</td>\n",
       "      <td>Female</td>\n",
       "      <td>42</td>\n",
       "      <td>8</td>\n",
       "      <td>159660.80</td>\n",
       "      <td>3</td>\n",
       "      <td>1</td>\n",
       "      <td>0</td>\n",
       "      <td>113931.57</td>\n",
       "      <td>1</td>\n",
       "    </tr>\n",
       "    <tr>\n",
       "      <th>3</th>\n",
       "      <td>4</td>\n",
       "      <td>15701354</td>\n",
       "      <td>Boni</td>\n",
       "      <td>699</td>\n",
       "      <td>France</td>\n",
       "      <td>Female</td>\n",
       "      <td>39</td>\n",
       "      <td>1</td>\n",
       "      <td>0.00</td>\n",
       "      <td>2</td>\n",
       "      <td>0</td>\n",
       "      <td>0</td>\n",
       "      <td>93826.63</td>\n",
       "      <td>0</td>\n",
       "    </tr>\n",
       "    <tr>\n",
       "      <th>4</th>\n",
       "      <td>5</td>\n",
       "      <td>15737888</td>\n",
       "      <td>Mitchell</td>\n",
       "      <td>850</td>\n",
       "      <td>Spain</td>\n",
       "      <td>Female</td>\n",
       "      <td>43</td>\n",
       "      <td>2</td>\n",
       "      <td>125510.82</td>\n",
       "      <td>1</td>\n",
       "      <td>1</td>\n",
       "      <td>1</td>\n",
       "      <td>79084.10</td>\n",
       "      <td>0</td>\n",
       "    </tr>\n",
       "  </tbody>\n",
       "</table>\n",
       "</div>"
      ],
      "text/plain": [
       "   RowNumber  CustomerId   Surname  CreditScore Geography  Gender  Age  \\\n",
       "0          1    15634602  Hargrave          619    France  Female   42   \n",
       "1          2    15647311      Hill          608     Spain  Female   41   \n",
       "2          3    15619304      Onio          502    France  Female   42   \n",
       "3          4    15701354      Boni          699    France  Female   39   \n",
       "4          5    15737888  Mitchell          850     Spain  Female   43   \n",
       "\n",
       "   Tenure    Balance  NumOfProducts  HasCrCard  IsActiveMember  \\\n",
       "0       2       0.00              1          1               1   \n",
       "1       1   83807.86              1          0               1   \n",
       "2       8  159660.80              3          1               0   \n",
       "3       1       0.00              2          0               0   \n",
       "4       2  125510.82              1          1               1   \n",
       "\n",
       "   EstimatedSalary  Exited  \n",
       "0        101348.88       1  \n",
       "1        112542.58       0  \n",
       "2        113931.57       1  \n",
       "3         93826.63       0  \n",
       "4         79084.10       0  "
      ]
     },
     "execution_count": 3,
     "metadata": {},
     "output_type": "execute_result"
    }
   ],
   "source": [
    "dataset.head()"
   ]
  },
  {
   "cell_type": "code",
   "execution_count": 4,
   "metadata": {},
   "outputs": [
    {
     "name": "stdout",
     "output_type": "stream",
     "text": [
      "<class 'pandas.core.frame.DataFrame'>\n",
      "RangeIndex: 10000 entries, 0 to 9999\n",
      "Data columns (total 14 columns):\n",
      "RowNumber          10000 non-null int64\n",
      "CustomerId         10000 non-null int64\n",
      "Surname            10000 non-null object\n",
      "CreditScore        10000 non-null int64\n",
      "Geography          10000 non-null object\n",
      "Gender             10000 non-null object\n",
      "Age                10000 non-null int64\n",
      "Tenure             10000 non-null int64\n",
      "Balance            10000 non-null float64\n",
      "NumOfProducts      10000 non-null int64\n",
      "HasCrCard          10000 non-null int64\n",
      "IsActiveMember     10000 non-null int64\n",
      "EstimatedSalary    10000 non-null float64\n",
      "Exited             10000 non-null int64\n",
      "dtypes: float64(2), int64(9), object(3)\n",
      "memory usage: 1.1+ MB\n"
     ]
    }
   ],
   "source": [
    "dataset.info()"
   ]
  },
  {
   "cell_type": "code",
   "execution_count": 5,
   "metadata": {},
   "outputs": [
    {
     "data": {
      "text/html": [
       "<div>\n",
       "<style scoped>\n",
       "    .dataframe tbody tr th:only-of-type {\n",
       "        vertical-align: middle;\n",
       "    }\n",
       "\n",
       "    .dataframe tbody tr th {\n",
       "        vertical-align: top;\n",
       "    }\n",
       "\n",
       "    .dataframe thead th {\n",
       "        text-align: right;\n",
       "    }\n",
       "</style>\n",
       "<table border=\"1\" class=\"dataframe\">\n",
       "  <thead>\n",
       "    <tr style=\"text-align: right;\">\n",
       "      <th></th>\n",
       "      <th>RowNumber</th>\n",
       "      <th>CustomerId</th>\n",
       "      <th>CreditScore</th>\n",
       "      <th>Age</th>\n",
       "      <th>Tenure</th>\n",
       "      <th>Balance</th>\n",
       "      <th>NumOfProducts</th>\n",
       "      <th>HasCrCard</th>\n",
       "      <th>IsActiveMember</th>\n",
       "      <th>EstimatedSalary</th>\n",
       "      <th>Exited</th>\n",
       "    </tr>\n",
       "  </thead>\n",
       "  <tbody>\n",
       "    <tr>\n",
       "      <th>count</th>\n",
       "      <td>10000.00000</td>\n",
       "      <td>1.000000e+04</td>\n",
       "      <td>10000.000000</td>\n",
       "      <td>10000.000000</td>\n",
       "      <td>10000.000000</td>\n",
       "      <td>10000.000000</td>\n",
       "      <td>10000.000000</td>\n",
       "      <td>10000.00000</td>\n",
       "      <td>10000.000000</td>\n",
       "      <td>10000.000000</td>\n",
       "      <td>10000.000000</td>\n",
       "    </tr>\n",
       "    <tr>\n",
       "      <th>mean</th>\n",
       "      <td>5000.50000</td>\n",
       "      <td>1.569094e+07</td>\n",
       "      <td>650.528800</td>\n",
       "      <td>38.921800</td>\n",
       "      <td>5.012800</td>\n",
       "      <td>76485.889288</td>\n",
       "      <td>1.530200</td>\n",
       "      <td>0.70550</td>\n",
       "      <td>0.515100</td>\n",
       "      <td>100090.239881</td>\n",
       "      <td>0.203700</td>\n",
       "    </tr>\n",
       "    <tr>\n",
       "      <th>std</th>\n",
       "      <td>2886.89568</td>\n",
       "      <td>7.193619e+04</td>\n",
       "      <td>96.653299</td>\n",
       "      <td>10.487806</td>\n",
       "      <td>2.892174</td>\n",
       "      <td>62397.405202</td>\n",
       "      <td>0.581654</td>\n",
       "      <td>0.45584</td>\n",
       "      <td>0.499797</td>\n",
       "      <td>57510.492818</td>\n",
       "      <td>0.402769</td>\n",
       "    </tr>\n",
       "    <tr>\n",
       "      <th>min</th>\n",
       "      <td>1.00000</td>\n",
       "      <td>1.556570e+07</td>\n",
       "      <td>350.000000</td>\n",
       "      <td>18.000000</td>\n",
       "      <td>0.000000</td>\n",
       "      <td>0.000000</td>\n",
       "      <td>1.000000</td>\n",
       "      <td>0.00000</td>\n",
       "      <td>0.000000</td>\n",
       "      <td>11.580000</td>\n",
       "      <td>0.000000</td>\n",
       "    </tr>\n",
       "    <tr>\n",
       "      <th>25%</th>\n",
       "      <td>2500.75000</td>\n",
       "      <td>1.562853e+07</td>\n",
       "      <td>584.000000</td>\n",
       "      <td>32.000000</td>\n",
       "      <td>3.000000</td>\n",
       "      <td>0.000000</td>\n",
       "      <td>1.000000</td>\n",
       "      <td>0.00000</td>\n",
       "      <td>0.000000</td>\n",
       "      <td>51002.110000</td>\n",
       "      <td>0.000000</td>\n",
       "    </tr>\n",
       "    <tr>\n",
       "      <th>50%</th>\n",
       "      <td>5000.50000</td>\n",
       "      <td>1.569074e+07</td>\n",
       "      <td>652.000000</td>\n",
       "      <td>37.000000</td>\n",
       "      <td>5.000000</td>\n",
       "      <td>97198.540000</td>\n",
       "      <td>1.000000</td>\n",
       "      <td>1.00000</td>\n",
       "      <td>1.000000</td>\n",
       "      <td>100193.915000</td>\n",
       "      <td>0.000000</td>\n",
       "    </tr>\n",
       "    <tr>\n",
       "      <th>75%</th>\n",
       "      <td>7500.25000</td>\n",
       "      <td>1.575323e+07</td>\n",
       "      <td>718.000000</td>\n",
       "      <td>44.000000</td>\n",
       "      <td>7.000000</td>\n",
       "      <td>127644.240000</td>\n",
       "      <td>2.000000</td>\n",
       "      <td>1.00000</td>\n",
       "      <td>1.000000</td>\n",
       "      <td>149388.247500</td>\n",
       "      <td>0.000000</td>\n",
       "    </tr>\n",
       "    <tr>\n",
       "      <th>max</th>\n",
       "      <td>10000.00000</td>\n",
       "      <td>1.581569e+07</td>\n",
       "      <td>850.000000</td>\n",
       "      <td>92.000000</td>\n",
       "      <td>10.000000</td>\n",
       "      <td>250898.090000</td>\n",
       "      <td>4.000000</td>\n",
       "      <td>1.00000</td>\n",
       "      <td>1.000000</td>\n",
       "      <td>199992.480000</td>\n",
       "      <td>1.000000</td>\n",
       "    </tr>\n",
       "  </tbody>\n",
       "</table>\n",
       "</div>"
      ],
      "text/plain": [
       "         RowNumber    CustomerId   CreditScore           Age        Tenure  \\\n",
       "count  10000.00000  1.000000e+04  10000.000000  10000.000000  10000.000000   \n",
       "mean    5000.50000  1.569094e+07    650.528800     38.921800      5.012800   \n",
       "std     2886.89568  7.193619e+04     96.653299     10.487806      2.892174   \n",
       "min        1.00000  1.556570e+07    350.000000     18.000000      0.000000   \n",
       "25%     2500.75000  1.562853e+07    584.000000     32.000000      3.000000   \n",
       "50%     5000.50000  1.569074e+07    652.000000     37.000000      5.000000   \n",
       "75%     7500.25000  1.575323e+07    718.000000     44.000000      7.000000   \n",
       "max    10000.00000  1.581569e+07    850.000000     92.000000     10.000000   \n",
       "\n",
       "             Balance  NumOfProducts    HasCrCard  IsActiveMember  \\\n",
       "count   10000.000000   10000.000000  10000.00000    10000.000000   \n",
       "mean    76485.889288       1.530200      0.70550        0.515100   \n",
       "std     62397.405202       0.581654      0.45584        0.499797   \n",
       "min         0.000000       1.000000      0.00000        0.000000   \n",
       "25%         0.000000       1.000000      0.00000        0.000000   \n",
       "50%     97198.540000       1.000000      1.00000        1.000000   \n",
       "75%    127644.240000       2.000000      1.00000        1.000000   \n",
       "max    250898.090000       4.000000      1.00000        1.000000   \n",
       "\n",
       "       EstimatedSalary        Exited  \n",
       "count     10000.000000  10000.000000  \n",
       "mean     100090.239881      0.203700  \n",
       "std       57510.492818      0.402769  \n",
       "min          11.580000      0.000000  \n",
       "25%       51002.110000      0.000000  \n",
       "50%      100193.915000      0.000000  \n",
       "75%      149388.247500      0.000000  \n",
       "max      199992.480000      1.000000  "
      ]
     },
     "execution_count": 5,
     "metadata": {},
     "output_type": "execute_result"
    }
   ],
   "source": [
    "dataset.describe()"
   ]
  },
  {
   "cell_type": "code",
   "execution_count": 6,
   "metadata": {},
   "outputs": [
    {
     "data": {
      "text/plain": [
       "(10000, 14)"
      ]
     },
     "execution_count": 6,
     "metadata": {},
     "output_type": "execute_result"
    }
   ],
   "source": [
    "dataset.shape"
   ]
  },
  {
   "cell_type": "code",
   "execution_count": 7,
   "metadata": {},
   "outputs": [
    {
     "data": {
      "text/plain": [
       "Index(['RowNumber', 'CustomerId', 'Surname', 'CreditScore', 'Geography',\n",
       "       'Gender', 'Age', 'Tenure', 'Balance', 'NumOfProducts', 'HasCrCard',\n",
       "       'IsActiveMember', 'EstimatedSalary', 'Exited'],\n",
       "      dtype='object')"
      ]
     },
     "execution_count": 7,
     "metadata": {},
     "output_type": "execute_result"
    }
   ],
   "source": [
    "dataset.columns"
   ]
  },
  {
   "cell_type": "code",
   "execution_count": 8,
   "metadata": {},
   "outputs": [],
   "source": [
    "dataset = dataset.drop(['RowNumber', 'CustomerId', 'Surname'], axis=1)"
   ]
  },
  {
   "cell_type": "code",
   "execution_count": 9,
   "metadata": {},
   "outputs": [
    {
     "data": {
      "text/plain": [
       "Index(['CreditScore', 'Geography', 'Gender', 'Age', 'Tenure', 'Balance',\n",
       "       'NumOfProducts', 'HasCrCard', 'IsActiveMember', 'EstimatedSalary',\n",
       "       'Exited'],\n",
       "      dtype='object')"
      ]
     },
     "execution_count": 9,
     "metadata": {},
     "output_type": "execute_result"
    }
   ],
   "source": [
    "dataset.columns"
   ]
  },
  {
   "cell_type": "code",
   "execution_count": 10,
   "metadata": {},
   "outputs": [
    {
     "name": "stdout",
     "output_type": "stream",
     "text": [
      "<class 'pandas.core.frame.DataFrame'>\n",
      "RangeIndex: 10000 entries, 0 to 9999\n",
      "Data columns (total 11 columns):\n",
      "CreditScore        10000 non-null int64\n",
      "Geography          10000 non-null object\n",
      "Gender             10000 non-null object\n",
      "Age                10000 non-null int64\n",
      "Tenure             10000 non-null int64\n",
      "Balance            10000 non-null float64\n",
      "NumOfProducts      10000 non-null int64\n",
      "HasCrCard          10000 non-null int64\n",
      "IsActiveMember     10000 non-null int64\n",
      "EstimatedSalary    10000 non-null float64\n",
      "Exited             10000 non-null int64\n",
      "dtypes: float64(2), int64(7), object(2)\n",
      "memory usage: 859.5+ KB\n"
     ]
    }
   ],
   "source": [
    "dataset.info()"
   ]
  },
  {
   "cell_type": "markdown",
   "metadata": {},
   "source": [
    "## Checking missing values"
   ]
  },
  {
   "cell_type": "code",
   "execution_count": 11,
   "metadata": {},
   "outputs": [
    {
     "data": {
      "text/plain": [
       "CreditScore        0\n",
       "Geography          0\n",
       "Gender             0\n",
       "Age                0\n",
       "Tenure             0\n",
       "Balance            0\n",
       "NumOfProducts      0\n",
       "HasCrCard          0\n",
       "IsActiveMember     0\n",
       "EstimatedSalary    0\n",
       "Exited             0\n",
       "dtype: int64"
      ]
     },
     "execution_count": 11,
     "metadata": {},
     "output_type": "execute_result"
    }
   ],
   "source": [
    "dataset.isnull().sum()"
   ]
  },
  {
   "cell_type": "code",
   "execution_count": 12,
   "metadata": {},
   "outputs": [],
   "source": [
    "y = dataset['Exited']"
   ]
  },
  {
   "cell_type": "code",
   "execution_count": 13,
   "metadata": {},
   "outputs": [],
   "source": [
    "dataset = dataset.drop(['Exited'], axis = 1)"
   ]
  },
  {
   "cell_type": "markdown",
   "metadata": {},
   "source": [
    "## Unique values for categorical"
   ]
  },
  {
   "cell_type": "markdown",
   "metadata": {},
   "source": [
    "### for Geography"
   ]
  },
  {
   "cell_type": "code",
   "execution_count": 14,
   "metadata": {},
   "outputs": [
    {
     "data": {
      "text/plain": [
       "array(['France', 'Spain', 'Germany'], dtype=object)"
      ]
     },
     "execution_count": 14,
     "metadata": {},
     "output_type": "execute_result"
    }
   ],
   "source": [
    "dataset['Geography'].unique()"
   ]
  },
  {
   "cell_type": "code",
   "execution_count": 15,
   "metadata": {},
   "outputs": [
    {
     "data": {
      "text/plain": [
       "3"
      ]
     },
     "execution_count": 15,
     "metadata": {},
     "output_type": "execute_result"
    }
   ],
   "source": [
    "len(dataset['Geography'].unique())"
   ]
  },
  {
   "cell_type": "code",
   "execution_count": 16,
   "metadata": {},
   "outputs": [
    {
     "data": {
      "text/plain": [
       "France     5014\n",
       "Germany    2509\n",
       "Spain      2477\n",
       "Name: Geography, dtype: int64"
      ]
     },
     "execution_count": 16,
     "metadata": {},
     "output_type": "execute_result"
    }
   ],
   "source": [
    "dataset.Geography.value_counts()"
   ]
  },
  {
   "cell_type": "markdown",
   "metadata": {},
   "source": [
    "### For Gender"
   ]
  },
  {
   "cell_type": "code",
   "execution_count": 17,
   "metadata": {},
   "outputs": [
    {
     "data": {
      "text/plain": [
       "array(['Female', 'Male'], dtype=object)"
      ]
     },
     "execution_count": 17,
     "metadata": {},
     "output_type": "execute_result"
    }
   ],
   "source": [
    "dataset['Gender'].unique()"
   ]
  },
  {
   "cell_type": "code",
   "execution_count": 18,
   "metadata": {},
   "outputs": [
    {
     "data": {
      "text/plain": [
       "Male      5457\n",
       "Female    4543\n",
       "Name: Gender, dtype: int64"
      ]
     },
     "execution_count": 18,
     "metadata": {},
     "output_type": "execute_result"
    }
   ],
   "source": [
    "dataset['Gender'].value_counts()"
   ]
  },
  {
   "cell_type": "markdown",
   "metadata": {},
   "source": [
    "## Encoding the categorical data"
   ]
  },
  {
   "cell_type": "code",
   "execution_count": 19,
   "metadata": {},
   "outputs": [],
   "source": [
    "from sklearn.preprocessing import LabelEncoder, OneHotEncoder"
   ]
  },
  {
   "cell_type": "code",
   "execution_count": 20,
   "metadata": {},
   "outputs": [],
   "source": [
    "#  for Geography\n",
    "label_geography = LabelEncoder()\n",
    "dataset['Geography'] = label_geography.fit_transform(dataset['Geography'])"
   ]
  },
  {
   "cell_type": "code",
   "execution_count": 21,
   "metadata": {},
   "outputs": [
    {
     "data": {
      "text/html": [
       "<div>\n",
       "<style scoped>\n",
       "    .dataframe tbody tr th:only-of-type {\n",
       "        vertical-align: middle;\n",
       "    }\n",
       "\n",
       "    .dataframe tbody tr th {\n",
       "        vertical-align: top;\n",
       "    }\n",
       "\n",
       "    .dataframe thead th {\n",
       "        text-align: right;\n",
       "    }\n",
       "</style>\n",
       "<table border=\"1\" class=\"dataframe\">\n",
       "  <thead>\n",
       "    <tr style=\"text-align: right;\">\n",
       "      <th></th>\n",
       "      <th>CreditScore</th>\n",
       "      <th>Geography</th>\n",
       "      <th>Gender</th>\n",
       "      <th>Age</th>\n",
       "      <th>Tenure</th>\n",
       "      <th>Balance</th>\n",
       "      <th>NumOfProducts</th>\n",
       "      <th>HasCrCard</th>\n",
       "      <th>IsActiveMember</th>\n",
       "      <th>EstimatedSalary</th>\n",
       "    </tr>\n",
       "  </thead>\n",
       "  <tbody>\n",
       "    <tr>\n",
       "      <th>0</th>\n",
       "      <td>619</td>\n",
       "      <td>0</td>\n",
       "      <td>Female</td>\n",
       "      <td>42</td>\n",
       "      <td>2</td>\n",
       "      <td>0.00</td>\n",
       "      <td>1</td>\n",
       "      <td>1</td>\n",
       "      <td>1</td>\n",
       "      <td>101348.88</td>\n",
       "    </tr>\n",
       "    <tr>\n",
       "      <th>1</th>\n",
       "      <td>608</td>\n",
       "      <td>2</td>\n",
       "      <td>Female</td>\n",
       "      <td>41</td>\n",
       "      <td>1</td>\n",
       "      <td>83807.86</td>\n",
       "      <td>1</td>\n",
       "      <td>0</td>\n",
       "      <td>1</td>\n",
       "      <td>112542.58</td>\n",
       "    </tr>\n",
       "    <tr>\n",
       "      <th>2</th>\n",
       "      <td>502</td>\n",
       "      <td>0</td>\n",
       "      <td>Female</td>\n",
       "      <td>42</td>\n",
       "      <td>8</td>\n",
       "      <td>159660.80</td>\n",
       "      <td>3</td>\n",
       "      <td>1</td>\n",
       "      <td>0</td>\n",
       "      <td>113931.57</td>\n",
       "    </tr>\n",
       "    <tr>\n",
       "      <th>3</th>\n",
       "      <td>699</td>\n",
       "      <td>0</td>\n",
       "      <td>Female</td>\n",
       "      <td>39</td>\n",
       "      <td>1</td>\n",
       "      <td>0.00</td>\n",
       "      <td>2</td>\n",
       "      <td>0</td>\n",
       "      <td>0</td>\n",
       "      <td>93826.63</td>\n",
       "    </tr>\n",
       "    <tr>\n",
       "      <th>4</th>\n",
       "      <td>850</td>\n",
       "      <td>2</td>\n",
       "      <td>Female</td>\n",
       "      <td>43</td>\n",
       "      <td>2</td>\n",
       "      <td>125510.82</td>\n",
       "      <td>1</td>\n",
       "      <td>1</td>\n",
       "      <td>1</td>\n",
       "      <td>79084.10</td>\n",
       "    </tr>\n",
       "  </tbody>\n",
       "</table>\n",
       "</div>"
      ],
      "text/plain": [
       "   CreditScore  Geography  Gender  Age  Tenure    Balance  NumOfProducts  \\\n",
       "0          619          0  Female   42       2       0.00              1   \n",
       "1          608          2  Female   41       1   83807.86              1   \n",
       "2          502          0  Female   42       8  159660.80              3   \n",
       "3          699          0  Female   39       1       0.00              2   \n",
       "4          850          2  Female   43       2  125510.82              1   \n",
       "\n",
       "   HasCrCard  IsActiveMember  EstimatedSalary  \n",
       "0          1               1        101348.88  \n",
       "1          0               1        112542.58  \n",
       "2          1               0        113931.57  \n",
       "3          0               0         93826.63  \n",
       "4          1               1         79084.10  "
      ]
     },
     "execution_count": 21,
     "metadata": {},
     "output_type": "execute_result"
    }
   ],
   "source": [
    "dataset.head()"
   ]
  },
  {
   "cell_type": "code",
   "execution_count": 22,
   "metadata": {},
   "outputs": [],
   "source": [
    "# for Gender\n",
    "label_gender = LabelEncoder()\n",
    "dataset['Gender'] = label_gender.fit_transform(dataset['Gender'])"
   ]
  },
  {
   "cell_type": "code",
   "execution_count": 23,
   "metadata": {},
   "outputs": [
    {
     "data": {
      "text/html": [
       "<div>\n",
       "<style scoped>\n",
       "    .dataframe tbody tr th:only-of-type {\n",
       "        vertical-align: middle;\n",
       "    }\n",
       "\n",
       "    .dataframe tbody tr th {\n",
       "        vertical-align: top;\n",
       "    }\n",
       "\n",
       "    .dataframe thead th {\n",
       "        text-align: right;\n",
       "    }\n",
       "</style>\n",
       "<table border=\"1\" class=\"dataframe\">\n",
       "  <thead>\n",
       "    <tr style=\"text-align: right;\">\n",
       "      <th></th>\n",
       "      <th>CreditScore</th>\n",
       "      <th>Geography</th>\n",
       "      <th>Gender</th>\n",
       "      <th>Age</th>\n",
       "      <th>Tenure</th>\n",
       "      <th>Balance</th>\n",
       "      <th>NumOfProducts</th>\n",
       "      <th>HasCrCard</th>\n",
       "      <th>IsActiveMember</th>\n",
       "      <th>EstimatedSalary</th>\n",
       "    </tr>\n",
       "  </thead>\n",
       "  <tbody>\n",
       "    <tr>\n",
       "      <th>0</th>\n",
       "      <td>619</td>\n",
       "      <td>0</td>\n",
       "      <td>0</td>\n",
       "      <td>42</td>\n",
       "      <td>2</td>\n",
       "      <td>0.00</td>\n",
       "      <td>1</td>\n",
       "      <td>1</td>\n",
       "      <td>1</td>\n",
       "      <td>101348.88</td>\n",
       "    </tr>\n",
       "    <tr>\n",
       "      <th>1</th>\n",
       "      <td>608</td>\n",
       "      <td>2</td>\n",
       "      <td>0</td>\n",
       "      <td>41</td>\n",
       "      <td>1</td>\n",
       "      <td>83807.86</td>\n",
       "      <td>1</td>\n",
       "      <td>0</td>\n",
       "      <td>1</td>\n",
       "      <td>112542.58</td>\n",
       "    </tr>\n",
       "    <tr>\n",
       "      <th>2</th>\n",
       "      <td>502</td>\n",
       "      <td>0</td>\n",
       "      <td>0</td>\n",
       "      <td>42</td>\n",
       "      <td>8</td>\n",
       "      <td>159660.80</td>\n",
       "      <td>3</td>\n",
       "      <td>1</td>\n",
       "      <td>0</td>\n",
       "      <td>113931.57</td>\n",
       "    </tr>\n",
       "    <tr>\n",
       "      <th>3</th>\n",
       "      <td>699</td>\n",
       "      <td>0</td>\n",
       "      <td>0</td>\n",
       "      <td>39</td>\n",
       "      <td>1</td>\n",
       "      <td>0.00</td>\n",
       "      <td>2</td>\n",
       "      <td>0</td>\n",
       "      <td>0</td>\n",
       "      <td>93826.63</td>\n",
       "    </tr>\n",
       "    <tr>\n",
       "      <th>4</th>\n",
       "      <td>850</td>\n",
       "      <td>2</td>\n",
       "      <td>0</td>\n",
       "      <td>43</td>\n",
       "      <td>2</td>\n",
       "      <td>125510.82</td>\n",
       "      <td>1</td>\n",
       "      <td>1</td>\n",
       "      <td>1</td>\n",
       "      <td>79084.10</td>\n",
       "    </tr>\n",
       "    <tr>\n",
       "      <th>5</th>\n",
       "      <td>645</td>\n",
       "      <td>2</td>\n",
       "      <td>1</td>\n",
       "      <td>44</td>\n",
       "      <td>8</td>\n",
       "      <td>113755.78</td>\n",
       "      <td>2</td>\n",
       "      <td>1</td>\n",
       "      <td>0</td>\n",
       "      <td>149756.71</td>\n",
       "    </tr>\n",
       "    <tr>\n",
       "      <th>6</th>\n",
       "      <td>822</td>\n",
       "      <td>0</td>\n",
       "      <td>1</td>\n",
       "      <td>50</td>\n",
       "      <td>7</td>\n",
       "      <td>0.00</td>\n",
       "      <td>2</td>\n",
       "      <td>1</td>\n",
       "      <td>1</td>\n",
       "      <td>10062.80</td>\n",
       "    </tr>\n",
       "    <tr>\n",
       "      <th>7</th>\n",
       "      <td>376</td>\n",
       "      <td>1</td>\n",
       "      <td>0</td>\n",
       "      <td>29</td>\n",
       "      <td>4</td>\n",
       "      <td>115046.74</td>\n",
       "      <td>4</td>\n",
       "      <td>1</td>\n",
       "      <td>0</td>\n",
       "      <td>119346.88</td>\n",
       "    </tr>\n",
       "    <tr>\n",
       "      <th>8</th>\n",
       "      <td>501</td>\n",
       "      <td>0</td>\n",
       "      <td>1</td>\n",
       "      <td>44</td>\n",
       "      <td>4</td>\n",
       "      <td>142051.07</td>\n",
       "      <td>2</td>\n",
       "      <td>0</td>\n",
       "      <td>1</td>\n",
       "      <td>74940.50</td>\n",
       "    </tr>\n",
       "    <tr>\n",
       "      <th>9</th>\n",
       "      <td>684</td>\n",
       "      <td>0</td>\n",
       "      <td>1</td>\n",
       "      <td>27</td>\n",
       "      <td>2</td>\n",
       "      <td>134603.88</td>\n",
       "      <td>1</td>\n",
       "      <td>1</td>\n",
       "      <td>1</td>\n",
       "      <td>71725.73</td>\n",
       "    </tr>\n",
       "  </tbody>\n",
       "</table>\n",
       "</div>"
      ],
      "text/plain": [
       "   CreditScore  Geography  Gender  Age  Tenure    Balance  NumOfProducts  \\\n",
       "0          619          0       0   42       2       0.00              1   \n",
       "1          608          2       0   41       1   83807.86              1   \n",
       "2          502          0       0   42       8  159660.80              3   \n",
       "3          699          0       0   39       1       0.00              2   \n",
       "4          850          2       0   43       2  125510.82              1   \n",
       "5          645          2       1   44       8  113755.78              2   \n",
       "6          822          0       1   50       7       0.00              2   \n",
       "7          376          1       0   29       4  115046.74              4   \n",
       "8          501          0       1   44       4  142051.07              2   \n",
       "9          684          0       1   27       2  134603.88              1   \n",
       "\n",
       "   HasCrCard  IsActiveMember  EstimatedSalary  \n",
       "0          1               1        101348.88  \n",
       "1          0               1        112542.58  \n",
       "2          1               0        113931.57  \n",
       "3          0               0         93826.63  \n",
       "4          1               1         79084.10  \n",
       "5          1               0        149756.71  \n",
       "6          1               1         10062.80  \n",
       "7          1               0        119346.88  \n",
       "8          0               1         74940.50  \n",
       "9          1               1         71725.73  "
      ]
     },
     "execution_count": 23,
     "metadata": {},
     "output_type": "execute_result"
    }
   ],
   "source": [
    "dataset.head(10)"
   ]
  },
  {
   "cell_type": "code",
   "execution_count": 24,
   "metadata": {},
   "outputs": [
    {
     "name": "stderr",
     "output_type": "stream",
     "text": [
      "C:\\ProgramData\\Anaconda3\\lib\\site-packages\\sklearn\\preprocessing\\_encoders.py:371: FutureWarning: The handling of integer data will change in version 0.22. Currently, the categories are determined based on the range [0, max(values)], while in the future they will be determined based on the unique values.\n",
      "If you want the future behaviour and silence this warning, you can specify \"categories='auto'\".\n",
      "In case you used a LabelEncoder before this OneHotEncoder to convert the categories to integers, then you can now use the OneHotEncoder directly.\n",
      "  warnings.warn(msg, FutureWarning)\n",
      "C:\\ProgramData\\Anaconda3\\lib\\site-packages\\sklearn\\preprocessing\\_encoders.py:392: DeprecationWarning: The 'categorical_features' keyword is deprecated in version 0.20 and will be removed in 0.22. You can use the ColumnTransformer instead.\n",
      "  \"use the ColumnTransformer instead.\", DeprecationWarning)\n"
     ]
    }
   ],
   "source": [
    "onehotencoder = OneHotEncoder(categorical_features=[1])\n",
    "df = onehotencoder.fit_transform(dataset).toarray()"
   ]
  },
  {
   "cell_type": "code",
   "execution_count": 25,
   "metadata": {},
   "outputs": [],
   "source": [
    "df = df[:,1:]"
   ]
  },
  {
   "cell_type": "code",
   "execution_count": 26,
   "metadata": {},
   "outputs": [
    {
     "data": {
      "text/plain": [
       "numpy.ndarray"
      ]
     },
     "execution_count": 26,
     "metadata": {},
     "output_type": "execute_result"
    }
   ],
   "source": [
    "type(df)"
   ]
  },
  {
   "cell_type": "code",
   "execution_count": 27,
   "metadata": {},
   "outputs": [
    {
     "data": {
      "text/plain": [
       "array([0.0000000e+00, 1.0000000e+00, 6.0800000e+02, 0.0000000e+00,\n",
       "       4.1000000e+01, 1.0000000e+00, 8.3807860e+04, 1.0000000e+00,\n",
       "       0.0000000e+00, 1.0000000e+00, 1.1254258e+05])"
      ]
     },
     "execution_count": 27,
     "metadata": {},
     "output_type": "execute_result"
    }
   ],
   "source": [
    "df[1]"
   ]
  },
  {
   "cell_type": "markdown",
   "metadata": {},
   "source": [
    "## Correlations"
   ]
  },
  {
   "cell_type": "code",
   "execution_count": 28,
   "metadata": {},
   "outputs": [
    {
     "data": {
      "text/plain": [
       "<matplotlib.axes._subplots.AxesSubplot at 0x20a11022b00>"
      ]
     },
     "execution_count": 28,
     "metadata": {},
     "output_type": "execute_result"
    },
    {
     "data": {
      "image/png": "[encoded data removed]",
      "text/plain": [
       "<Figure size 432x288 with 2 Axes>"
      ]
     },
     "metadata": {
      "needs_background": "light"
     },
     "output_type": "display_data"
    }
   ],
   "source": [
    "sns.heatmap(dataset.corr(), cmap='coolwarm',annot=True,fmt='.2f')"
   ]
  },
  {
   "cell_type": "markdown",
   "metadata": {},
   "source": [
    "## Feature Scaling"
   ]
  },
  {
   "cell_type": "code",
   "execution_count": 29,
   "metadata": {},
   "outputs": [],
   "source": [
    "from sklearn.preprocessing import StandardScaler"
   ]
  },
  {
   "cell_type": "code",
   "execution_count": 30,
   "metadata": {},
   "outputs": [],
   "source": [
    "sc = StandardScaler()\n",
    "df = sc.fit_transform(df)\n"
   ]
  },
  {
   "cell_type": "code",
   "execution_count": 31,
   "metadata": {},
   "outputs": [
    {
     "data": {
      "text/plain": [
       "array([[-0.57873591, -0.57380915, -0.32622142, ...,  0.64609167,\n",
       "         0.97024255,  0.02188649],\n",
       "       [-0.57873591,  1.74273971, -0.44003595, ..., -1.54776799,\n",
       "         0.97024255,  0.21653375],\n",
       "       [-0.57873591, -0.57380915, -1.53679418, ...,  0.64609167,\n",
       "        -1.03067011,  0.2406869 ],\n",
       "       ...,\n",
       "       [-0.57873591, -0.57380915,  0.60498839, ..., -1.54776799,\n",
       "         0.97024255, -1.00864308],\n",
       "       [ 1.72790383, -0.57380915,  1.25683526, ...,  0.64609167,\n",
       "        -1.03067011, -0.12523071],\n",
       "       [-0.57873591, -0.57380915,  1.46377078, ...,  0.64609167,\n",
       "        -1.03067011, -1.07636976]])"
      ]
     },
     "execution_count": 31,
     "metadata": {},
     "output_type": "execute_result"
    }
   ],
   "source": [
    "df"
   ]
  },
  {
   "cell_type": "markdown",
   "metadata": {},
   "source": [
    "## Split the dataset into Training set and Test set"
   ]
  },
  {
   "cell_type": "code",
   "execution_count": 32,
   "metadata": {},
   "outputs": [],
   "source": [
    "from sklearn.model_selection import train_test_split"
   ]
  },
  {
   "cell_type": "code",
   "execution_count": 33,
   "metadata": {},
   "outputs": [],
   "source": [
    "X_train, X_test, y_train, y_test = train_test_split(df, y, test_size=0.2, random_state=42)"
   ]
  },
  {
   "cell_type": "code",
   "execution_count": 34,
   "metadata": {},
   "outputs": [
    {
     "data": {
      "text/plain": [
       "array([[-0.57873591, -0.57380915,  0.36701255, ...,  0.64609167,\n",
       "         0.97024255,  1.37378358],\n",
       "       [ 1.72790383, -0.57380915, -0.19171334, ...,  0.64609167,\n",
       "         0.97024255,  1.66740729],\n",
       "       [-0.57873591,  1.74273971, -0.94702796, ...,  0.64609167,\n",
       "        -1.03067011, -0.24691025],\n",
       "       ...,\n",
       "       [-0.57873591, -0.57380915,  0.87400456, ..., -1.54776799,\n",
       "        -1.03067011, -0.13685352],\n",
       "       [-0.57873591, -0.57380915,  0.17042381, ...,  0.64609167,\n",
       "        -1.03067011, -0.04490188],\n",
       "       [ 1.72790383, -0.57380915,  0.48082708, ...,  0.64609167,\n",
       "         0.97024255, -0.80874677]])"
      ]
     },
     "execution_count": 34,
     "metadata": {},
     "output_type": "execute_result"
    }
   ],
   "source": [
    "X_train"
   ]
  },
  {
   "cell_type": "code",
   "execution_count": 35,
   "metadata": {},
   "outputs": [
    {
     "data": {
      "text/plain": [
       "pandas.core.series.Series"
      ]
     },
     "execution_count": 35,
     "metadata": {},
     "output_type": "execute_result"
    }
   ],
   "source": [
    "type(y_train)"
   ]
  },
  {
   "cell_type": "markdown",
   "metadata": {},
   "source": [
    "# 2- Artificial Neural Network"
   ]
  },
  {
   "cell_type": "markdown",
   "metadata": {},
   "source": [
    "## Importing the keras library and the packages"
   ]
  },
  {
   "cell_type": "code",
   "execution_count": 36,
   "metadata": {},
   "outputs": [
    {
     "name": "stderr",
     "output_type": "stream",
     "text": [
      "Using TensorFlow backend.\n"
     ]
    }
   ],
   "source": [
    "import keras\n",
    "from keras.models import Sequential\n",
    "from keras.layers import Dense, Dropout\n",
    "from sklearn.model_selection import GridSearchCV"
   ]
  },
  {
   "cell_type": "markdown",
   "metadata": {},
   "source": [
    "### Initialising the ANN "
   ]
  },
  {
   "cell_type": "code",
   "execution_count": 37,
   "metadata": {},
   "outputs": [],
   "source": [
    "classifier = Sequential()"
   ]
  },
  {
   "cell_type": "markdown",
   "metadata": {},
   "source": [
    "### Adding the input layer and the first hidden layer with dropout"
   ]
  },
  {
   "cell_type": "code",
   "execution_count": 38,
   "metadata": {},
   "outputs": [
    {
     "data": {
      "text/plain": [
       "(8000, 11)"
      ]
     },
     "execution_count": 38,
     "metadata": {},
     "output_type": "execute_result"
    }
   ],
   "source": [
    "X_train.shape"
   ]
  },
  {
   "cell_type": "markdown",
   "metadata": {},
   "source": [
    "### Dropout Regulation to reduced the overfitting if needed"
   ]
  },
  {
   "cell_type": "code",
   "execution_count": 39,
   "metadata": {},
   "outputs": [
    {
     "name": "stdout",
     "output_type": "stream",
     "text": [
      "WARNING:tensorflow:From C:\\ProgramData\\Anaconda3\\lib\\site-packages\\tensorflow\\python\\framework\\op_def_library.py:263: colocate_with (from tensorflow.python.framework.ops) is deprecated and will be removed in a future version.\n",
      "Instructions for updating:\n",
      "Colocations handled automatically by placer.\n",
      "WARNING:tensorflow:From C:\\ProgramData\\Anaconda3\\lib\\site-packages\\keras\\backend\\tensorflow_backend.py:3445: calling dropout (from tensorflow.python.ops.nn_ops) with keep_prob is deprecated and will be removed in a future version.\n",
      "Instructions for updating:\n",
      "Please use `rate` instead of `keep_prob`. Rate should be set to `rate = 1 - keep_prob`.\n"
     ]
    }
   ],
   "source": [
    "classifier.add(Dense(activation=\"relu\", input_dim=11, units=6, kernel_initializer=\"uniform\"))\n",
    "classifier.add(Dropout(rate=0.01))"
   ]
  },
  {
   "cell_type": "markdown",
   "metadata": {},
   "source": [
    "### Adding the second hidden layer"
   ]
  },
  {
   "cell_type": "code",
   "execution_count": 40,
   "metadata": {},
   "outputs": [],
   "source": [
    "classifier.add(Dense(activation=\"relu\", units=6, kernel_initializer=\"uniform\"))\n",
    "classifier.add(Dropout(rate = 0.01))"
   ]
  },
  {
   "cell_type": "markdown",
   "metadata": {},
   "source": [
    "### Adding the output layer"
   ]
  },
  {
   "cell_type": "code",
   "execution_count": 41,
   "metadata": {},
   "outputs": [],
   "source": [
    "classifier.add(Dense(activation = 'sigmoid', units = 1, kernel_initializer = 'uniform'))"
   ]
  },
  {
   "cell_type": "markdown",
   "metadata": {},
   "source": [
    "### Compiling the ANN"
   ]
  },
  {
   "cell_type": "code",
   "execution_count": 42,
   "metadata": {},
   "outputs": [],
   "source": [
    "classifier.compile(optimizer= 'adam', loss= 'binary_crossentropy', metrics= ['accuracy'])"
   ]
  },
  {
   "cell_type": "markdown",
   "metadata": {},
   "source": [
    "### Fitting the ANN to the trainig set"
   ]
  },
  {
   "cell_type": "code",
   "execution_count": 43,
   "metadata": {},
   "outputs": [
    {
     "name": "stdout",
     "output_type": "stream",
     "text": [
      "WARNING:tensorflow:From C:\\ProgramData\\Anaconda3\\lib\\site-packages\\tensorflow\\python\\ops\\math_ops.py:3066: to_int32 (from tensorflow.python.ops.math_ops) is deprecated and will be removed in a future version.\n",
      "Instructions for updating:\n",
      "Use tf.cast instead.\n",
      "Epoch 1/100\n",
      "8000/8000 [==============================] - 1s 137us/step - loss: 0.4861 - acc: 0.7945\n",
      "Epoch 2/100\n",
      "8000/8000 [==============================] - 1s 78us/step - loss: 0.4313 - acc: 0.7945\n",
      "Epoch 3/100\n",
      "8000/8000 [==============================] - 1s 77us/step - loss: 0.4276 - acc: 0.7945\n",
      "Epoch 4/100\n",
      "8000/8000 [==============================] - 1s 77us/step - loss: 0.4223 - acc: 0.8192\n",
      "Epoch 5/100\n",
      "8000/8000 [==============================] - 1s 77us/step - loss: 0.4214 - acc: 0.8254\n",
      "Epoch 6/100\n",
      "8000/8000 [==============================] - 1s 77us/step - loss: 0.4189 - acc: 0.8271\n",
      "Epoch 7/100\n",
      "8000/8000 [==============================] - 1s 77us/step - loss: 0.4178 - acc: 0.8287\n",
      "Epoch 8/100\n",
      "8000/8000 [==============================] - 1s 77us/step - loss: 0.4157 - acc: 0.8314\n",
      "Epoch 9/100\n",
      "8000/8000 [==============================] - 1s 77us/step - loss: 0.4156 - acc: 0.8294\n",
      "Epoch 10/100\n",
      "8000/8000 [==============================] - 1s 77us/step - loss: 0.4135 - acc: 0.8329\n",
      "Epoch 11/100\n",
      "8000/8000 [==============================] - 1s 77us/step - loss: 0.4135 - acc: 0.8329\n",
      "Epoch 12/100\n",
      "8000/8000 [==============================] - 1s 77us/step - loss: 0.4119 - acc: 0.8336\n",
      "Epoch 13/100\n",
      "8000/8000 [==============================] - 1s 77us/step - loss: 0.4106 - acc: 0.8339\n",
      "Epoch 14/100\n",
      "8000/8000 [==============================] - 1s 77us/step - loss: 0.4120 - acc: 0.8324\n",
      "Epoch 15/100\n",
      "8000/8000 [==============================] - 1s 76us/step - loss: 0.4126 - acc: 0.8331\n",
      "Epoch 16/100\n",
      "8000/8000 [==============================] - 1s 78us/step - loss: 0.4107 - acc: 0.8319\n",
      "Epoch 17/100\n",
      "8000/8000 [==============================] - 1s 77us/step - loss: 0.4107 - acc: 0.8311\n",
      "Epoch 18/100\n",
      "8000/8000 [==============================] - 1s 77us/step - loss: 0.4114 - acc: 0.8305\n",
      "Epoch 19/100\n",
      "8000/8000 [==============================] - 1s 77us/step - loss: 0.4097 - acc: 0.8319\n",
      "Epoch 20/100\n",
      "8000/8000 [==============================] - 1s 77us/step - loss: 0.4090 - acc: 0.8326\n",
      "Epoch 21/100\n",
      "8000/8000 [==============================] - 1s 77us/step - loss: 0.4096 - acc: 0.8319\n",
      "Epoch 22/100\n",
      "8000/8000 [==============================] - 1s 77us/step - loss: 0.4096 - acc: 0.8322\n",
      "Epoch 23/100\n",
      "8000/8000 [==============================] - 1s 77us/step - loss: 0.4069 - acc: 0.8324\n",
      "Epoch 24/100\n",
      "8000/8000 [==============================] - 1s 77us/step - loss: 0.4098 - acc: 0.8344\n",
      "Epoch 25/100\n",
      "8000/8000 [==============================] - 1s 77us/step - loss: 0.4091 - acc: 0.8325\n",
      "Epoch 26/100\n",
      "8000/8000 [==============================] - 1s 77us/step - loss: 0.4108 - acc: 0.8307\n",
      "Epoch 27/100\n",
      "8000/8000 [==============================] - 1s 77us/step - loss: 0.4087 - acc: 0.8329\n",
      "Epoch 28/100\n",
      "8000/8000 [==============================] - 1s 77us/step - loss: 0.4094 - acc: 0.8322\n",
      "Epoch 29/100\n",
      "8000/8000 [==============================] - 1s 77us/step - loss: 0.4097 - acc: 0.8346\n",
      "Epoch 30/100\n",
      "8000/8000 [==============================] - 1s 77us/step - loss: 0.4093 - acc: 0.8334\n",
      "Epoch 31/100\n",
      "8000/8000 [==============================] - 1s 77us/step - loss: 0.4085 - acc: 0.8341\n",
      "Epoch 32/100\n",
      "8000/8000 [==============================] - 1s 77us/step - loss: 0.4076 - acc: 0.8350\n",
      "Epoch 33/100\n",
      "8000/8000 [==============================] - 1s 77us/step - loss: 0.4083 - acc: 0.8355\n",
      "Epoch 34/100\n",
      "8000/8000 [==============================] - 1s 77us/step - loss: 0.4067 - acc: 0.8336\n",
      "Epoch 35/100\n",
      "8000/8000 [==============================] - 1s 77us/step - loss: 0.4077 - acc: 0.8335\n",
      "Epoch 36/100\n",
      "8000/8000 [==============================] - 1s 77us/step - loss: 0.4075 - acc: 0.8332\n",
      "Epoch 37/100\n",
      "8000/8000 [==============================] - 1s 77us/step - loss: 0.4083 - acc: 0.8329\n",
      "Epoch 38/100\n",
      "8000/8000 [==============================] - 1s 77us/step - loss: 0.4065 - acc: 0.8350\n",
      "Epoch 39/100\n",
      "8000/8000 [==============================] - 1s 77us/step - loss: 0.4072 - acc: 0.8342\n",
      "Epoch 40/100\n",
      "8000/8000 [==============================] - 1s 78us/step - loss: 0.4077 - acc: 0.8352\n",
      "Epoch 41/100\n",
      "8000/8000 [==============================] - 1s 77us/step - loss: 0.4078 - acc: 0.8331\n",
      "Epoch 42/100\n",
      "8000/8000 [==============================] - 1s 76us/step - loss: 0.4078 - acc: 0.8336\n",
      "Epoch 43/100\n",
      "8000/8000 [==============================] - 1s 80us/step - loss: 0.4070 - acc: 0.8324\n",
      "Epoch 44/100\n",
      "8000/8000 [==============================] - 1s 77us/step - loss: 0.4082 - acc: 0.8335\n",
      "Epoch 45/100\n",
      "8000/8000 [==============================] - 1s 77us/step - loss: 0.4076 - acc: 0.8334\n",
      "Epoch 46/100\n",
      "8000/8000 [==============================] - 1s 78us/step - loss: 0.4070 - acc: 0.8340\n",
      "Epoch 47/100\n",
      "8000/8000 [==============================] - 1s 78us/step - loss: 0.4073 - acc: 0.8317\n",
      "Epoch 48/100\n",
      "8000/8000 [==============================] - 1s 78us/step - loss: 0.4078 - acc: 0.8302\n",
      "Epoch 49/100\n",
      "8000/8000 [==============================] - 1s 77us/step - loss: 0.4082 - acc: 0.8326\n",
      "Epoch 50/100\n",
      "8000/8000 [==============================] - 1s 78us/step - loss: 0.4080 - acc: 0.8337\n",
      "Epoch 51/100\n",
      "8000/8000 [==============================] - 1s 78us/step - loss: 0.4088 - acc: 0.8324\n",
      "Epoch 52/100\n",
      "8000/8000 [==============================] - 1s 77us/step - loss: 0.4076 - acc: 0.8329\n",
      "Epoch 53/100\n",
      "8000/8000 [==============================] - 1s 77us/step - loss: 0.4064 - acc: 0.8329\n",
      "Epoch 54/100\n",
      "8000/8000 [==============================] - 1s 77us/step - loss: 0.4089 - acc: 0.8337\n",
      "Epoch 55/100\n",
      "8000/8000 [==============================] - 1s 77us/step - loss: 0.4065 - acc: 0.8327\n",
      "Epoch 56/100\n",
      "8000/8000 [==============================] - 1s 77us/step - loss: 0.4072 - acc: 0.8332\n",
      "Epoch 57/100\n",
      "8000/8000 [==============================] - 1s 79us/step - loss: 0.4070 - acc: 0.8326\n",
      "Epoch 58/100\n",
      "8000/8000 [==============================] - 1s 80us/step - loss: 0.4070 - acc: 0.8334\n",
      "Epoch 59/100\n",
      "8000/8000 [==============================] - 1s 79us/step - loss: 0.4072 - acc: 0.8346\n",
      "Epoch 60/100\n",
      "8000/8000 [==============================] - 1s 79us/step - loss: 0.4070 - acc: 0.8334: 0s - loss: 0.4046 - a\n",
      "Epoch 61/100\n",
      "8000/8000 [==============================] - 1s 79us/step - loss: 0.4077 - acc: 0.8316\n",
      "Epoch 62/100\n",
      "8000/8000 [==============================] - 1s 78us/step - loss: 0.4081 - acc: 0.8344\n",
      "Epoch 63/100\n",
      "8000/8000 [==============================] - 1s 77us/step - loss: 0.4069 - acc: 0.8334\n",
      "Epoch 64/100\n",
      "8000/8000 [==============================] - 1s 77us/step - loss: 0.4081 - acc: 0.8317\n",
      "Epoch 65/100\n",
      "8000/8000 [==============================] - 1s 77us/step - loss: 0.4069 - acc: 0.8322\n",
      "Epoch 66/100\n",
      "8000/8000 [==============================] - 1s 77us/step - loss: 0.4067 - acc: 0.8335\n",
      "Epoch 67/100\n",
      "8000/8000 [==============================] - 1s 78us/step - loss: 0.4081 - acc: 0.8311\n",
      "Epoch 68/100\n",
      "8000/8000 [==============================] - 1s 76us/step - loss: 0.4051 - acc: 0.8331\n",
      "Epoch 69/100\n",
      "8000/8000 [==============================] - 1s 79us/step - loss: 0.4075 - acc: 0.8317\n",
      "Epoch 70/100\n",
      "8000/8000 [==============================] - 1s 77us/step - loss: 0.4083 - acc: 0.8329\n",
      "Epoch 71/100\n",
      "8000/8000 [==============================] - 1s 76us/step - loss: 0.4082 - acc: 0.8340\n",
      "Epoch 72/100\n",
      "8000/8000 [==============================] - 1s 79us/step - loss: 0.4075 - acc: 0.8334\n",
      "Epoch 73/100\n",
      "8000/8000 [==============================] - 1s 77us/step - loss: 0.4063 - acc: 0.8337\n",
      "Epoch 74/100\n",
      "8000/8000 [==============================] - 1s 77us/step - loss: 0.4085 - acc: 0.8327\n",
      "Epoch 75/100\n",
      "8000/8000 [==============================] - 1s 77us/step - loss: 0.4070 - acc: 0.8325\n",
      "Epoch 76/100\n",
      "8000/8000 [==============================] - 1s 77us/step - loss: 0.4062 - acc: 0.8326\n",
      "Epoch 77/100\n",
      "8000/8000 [==============================] - 1s 77us/step - loss: 0.4074 - acc: 0.8335\n",
      "Epoch 78/100\n",
      "8000/8000 [==============================] - 1s 77us/step - loss: 0.4070 - acc: 0.8337\n",
      "Epoch 79/100\n",
      "8000/8000 [==============================] - 1s 77us/step - loss: 0.4077 - acc: 0.8325\n",
      "Epoch 80/100\n"
     ]
    },
    {
     "name": "stdout",
     "output_type": "stream",
     "text": [
      "8000/8000 [==============================] - 1s 77us/step - loss: 0.4066 - acc: 0.8341\n",
      "Epoch 81/100\n",
      "8000/8000 [==============================] - 1s 77us/step - loss: 0.4077 - acc: 0.8329\n",
      "Epoch 82/100\n",
      "8000/8000 [==============================] - 1s 76us/step - loss: 0.4061 - acc: 0.8337\n",
      "Epoch 83/100\n",
      "8000/8000 [==============================] - 1s 77us/step - loss: 0.4062 - acc: 0.8341\n",
      "Epoch 84/100\n",
      "8000/8000 [==============================] - 1s 76us/step - loss: 0.4062 - acc: 0.8332\n",
      "Epoch 85/100\n",
      "8000/8000 [==============================] - 1s 78us/step - loss: 0.4067 - acc: 0.8326\n",
      "Epoch 86/100\n",
      "8000/8000 [==============================] - 1s 78us/step - loss: 0.4080 - acc: 0.8330\n",
      "Epoch 87/100\n",
      "8000/8000 [==============================] - 1s 77us/step - loss: 0.4075 - acc: 0.8341\n",
      "Epoch 88/100\n",
      "8000/8000 [==============================] - 1s 77us/step - loss: 0.4068 - acc: 0.8325\n",
      "Epoch 89/100\n",
      "8000/8000 [==============================] - 1s 77us/step - loss: 0.4068 - acc: 0.8344\n",
      "Epoch 90/100\n",
      "8000/8000 [==============================] - 1s 77us/step - loss: 0.4076 - acc: 0.8331\n",
      "Epoch 91/100\n",
      "8000/8000 [==============================] - 1s 77us/step - loss: 0.4070 - acc: 0.8322\n",
      "Epoch 92/100\n",
      "8000/8000 [==============================] - 1s 77us/step - loss: 0.4062 - acc: 0.8326\n",
      "Epoch 93/100\n",
      "8000/8000 [==============================] - 1s 77us/step - loss: 0.4075 - acc: 0.8330\n",
      "Epoch 94/100\n",
      "8000/8000 [==============================] - 1s 77us/step - loss: 0.4066 - acc: 0.8337\n",
      "Epoch 95/100\n",
      "8000/8000 [==============================] - 1s 77us/step - loss: 0.4050 - acc: 0.8339\n",
      "Epoch 96/100\n",
      "8000/8000 [==============================] - 1s 78us/step - loss: 0.4084 - acc: 0.8330\n",
      "Epoch 97/100\n",
      "8000/8000 [==============================] - 1s 75us/step - loss: 0.4062 - acc: 0.8334\n",
      "Epoch 98/100\n",
      "8000/8000 [==============================] - 1s 79us/step - loss: 0.4062 - acc: 0.8334\n",
      "Epoch 99/100\n",
      "8000/8000 [==============================] - 1s 77us/step - loss: 0.4061 - acc: 0.8335\n",
      "Epoch 100/100\n",
      "8000/8000 [==============================] - 1s 77us/step - loss: 0.4070 - acc: 0.8325\n"
     ]
    },
    {
     "data": {
      "text/plain": [
       "<keras.callbacks.History at 0x20a16d946d8>"
      ]
     },
     "execution_count": 43,
     "metadata": {},
     "output_type": "execute_result"
    }
   ],
   "source": [
    "classifier.fit(X_train, y_train, batch_size= 10, epochs= 100)"
   ]
  },
  {
   "cell_type": "markdown",
   "metadata": {},
   "source": [
    "# 3- Making the prediction and evaluating the model"
   ]
  },
  {
   "cell_type": "code",
   "execution_count": 44,
   "metadata": {},
   "outputs": [],
   "source": [
    "# Prediction the test set results\n",
    "y_pred = classifier.predict(X_test)"
   ]
  },
  {
   "cell_type": "code",
   "execution_count": 45,
   "metadata": {},
   "outputs": [
    {
     "data": {
      "text/plain": [
       "array([[0.10645753],\n",
       "       [0.0899097 ],\n",
       "       [0.46220565],\n",
       "       ...,\n",
       "       [0.56253326],\n",
       "       [0.03595179],\n",
       "       [0.1997405 ]], dtype=float32)"
      ]
     },
     "execution_count": 45,
     "metadata": {},
     "output_type": "execute_result"
    }
   ],
   "source": [
    "y_pred"
   ]
  },
  {
   "cell_type": "code",
   "execution_count": 46,
   "metadata": {},
   "outputs": [],
   "source": [
    "y_pred = (y_pred > 0.5)"
   ]
  },
  {
   "cell_type": "code",
   "execution_count": 47,
   "metadata": {},
   "outputs": [
    {
     "data": {
      "text/plain": [
       "array([[False],\n",
       "       [False],\n",
       "       [False],\n",
       "       ...,\n",
       "       [ True],\n",
       "       [False],\n",
       "       [False]])"
      ]
     },
     "execution_count": 47,
     "metadata": {},
     "output_type": "execute_result"
    }
   ],
   "source": [
    "y_pred"
   ]
  },
  {
   "cell_type": "markdown",
   "metadata": {},
   "source": [
    "### Making the confusion Metrics"
   ]
  },
  {
   "cell_type": "code",
   "execution_count": 48,
   "metadata": {},
   "outputs": [],
   "source": [
    "from sklearn.metrics import confusion_matrix"
   ]
  },
  {
   "cell_type": "code",
   "execution_count": 49,
   "metadata": {},
   "outputs": [
    {
     "data": {
      "text/plain": [
       "array([[1563,   44],\n",
       "       [ 267,  126]], dtype=int64)"
      ]
     },
     "execution_count": 49,
     "metadata": {},
     "output_type": "execute_result"
    }
   ],
   "source": [
    "cm = confusion_matrix(y_test, y_pred)\n",
    "cm"
   ]
  },
  {
   "cell_type": "code",
   "execution_count": 50,
   "metadata": {},
   "outputs": [
    {
     "data": {
      "text/plain": [
       "0.8035"
      ]
     },
     "execution_count": 50,
     "metadata": {},
     "output_type": "execute_result"
    }
   ],
   "source": [
    "(1607)/(2000)"
   ]
  },
  {
   "cell_type": "markdown",
   "metadata": {},
   "source": [
    "Homework Instruction<br>\n",
    "<br>\n",
    "\n",
    "\n",
    "Use our ANN model to predict if the customer with the following informations will leave the bank: <br>\n",
    "<br>\n",
    "Geography: France<br>\n",
    "Credit Score: 600<br>\n",
    "Gender: Male<br>\n",
    "Age: 40 years old<br>\n",
    "Tenure: 3 years<br>\n",
    "Balance: 60000 <br>\n",
    "Number of Products: 2<br>\n",
    "Does this customer have a credit card ? Yes<br>\n",
    "Is this customer an Active Member: Yes<br>\n",
    "Estimated Salary: $50000<br>\n",
    "So should we say goodbye to that customer ?"
   ]
  },
  {
   "cell_type": "code",
   "execution_count": 51,
   "metadata": {},
   "outputs": [],
   "source": [
    "a = [[0, 0, 600, 1, 40, 3, 60000, 2, 1,1, 50000]]\n",
    "arr = np.array(a)"
   ]
  },
  {
   "cell_type": "code",
   "execution_count": 52,
   "metadata": {},
   "outputs": [
    {
     "data": {
      "text/plain": [
       "numpy.ndarray"
      ]
     },
     "execution_count": 52,
     "metadata": {},
     "output_type": "execute_result"
    }
   ],
   "source": [
    "type(arr)"
   ]
  },
  {
   "cell_type": "code",
   "execution_count": 53,
   "metadata": {},
   "outputs": [
    {
     "name": "stderr",
     "output_type": "stream",
     "text": [
      "C:\\ProgramData\\Anaconda3\\lib\\site-packages\\sklearn\\utils\\validation.py:595: DataConversionWarning: Data with input dtype int32 was converted to float64 by StandardScaler.\n",
      "  warnings.warn(msg, DataConversionWarning)\n"
     ]
    }
   ],
   "source": [
    "arr=  sc.transform(arr)"
   ]
  },
  {
   "cell_type": "code",
   "execution_count": 54,
   "metadata": {},
   "outputs": [],
   "source": [
    "new_pred = classifier.predict(arr)"
   ]
  },
  {
   "cell_type": "code",
   "execution_count": 55,
   "metadata": {},
   "outputs": [
    {
     "data": {
      "text/plain": [
       "array([[False]])"
      ]
     },
     "execution_count": 55,
     "metadata": {},
     "output_type": "execute_result"
    }
   ],
   "source": [
    "# customer doesn't leave the bank\n",
    "new_pred>0.5"
   ]
  },
  {
   "cell_type": "markdown",
   "metadata": {},
   "source": [
    "# 4- Evaluating, improving and Tuning the ANN"
   ]
  },
  {
   "cell_type": "markdown",
   "metadata": {},
   "source": [
    "### Evaluating the ANN "
   ]
  },
  {
   "cell_type": "code",
   "execution_count": 56,
   "metadata": {},
   "outputs": [],
   "source": [
    "from keras.wrappers.scikit_learn import KerasClassifier\n",
    "from sklearn.model_selection import cross_val_score"
   ]
  },
  {
   "cell_type": "code",
   "execution_count": 57,
   "metadata": {},
   "outputs": [],
   "source": [
    "def build_classifier():\n",
    "    classifier = Sequential()\n",
    "    classifier.add(Dense(activation = \"relu\", units = 6, kernel_initializer = 'uniform', input_dim = 11))\n",
    "#     classifier.add(Dropout(rate=0.1))\n",
    "    classifier.add(Dense(activation = \"relu\", units = 6, kernel_initializer = 'uniform'))\n",
    "#     classifier.add(Dropout(rate=0.1))\n",
    "    classifier.add(Dense(activation = \"sigmoid\", units = 1, kernel_initializer = 'uniform'))\n",
    "    classifier.compile(optimizer = \"adam\", loss=\"binary_crossentropy\", metrics=['accuracy'])\n",
    "    return classifier"
   ]
  },
  {
   "cell_type": "code",
   "execution_count": 58,
   "metadata": {},
   "outputs": [],
   "source": [
    "classifier = KerasClassifier(build_fn= build_classifier, batch_size = 10, nb_epoch = 100)\n",
    "accuracies = cross_val_score(estimator= classifier, X= X_train, y= y_train, cv = 10, n_jobs= -1)"
   ]
  },
  {
   "cell_type": "code",
   "execution_count": 59,
   "metadata": {},
   "outputs": [
    {
     "data": {
      "text/plain": [
       "<keras.wrappers.scikit_learn.KerasClassifier at 0x20a172ae0b8>"
      ]
     },
     "execution_count": 59,
     "metadata": {},
     "output_type": "execute_result"
    }
   ],
   "source": [
    "classifier"
   ]
  },
  {
   "cell_type": "code",
   "execution_count": 60,
   "metadata": {},
   "outputs": [
    {
     "data": {
      "text/plain": [
       "array([0.80625   , 0.7925    , 0.77375   , 0.79125   , 0.79125   ,\n",
       "       0.82874999, 0.79625   , 0.76875   , 0.79375   , 0.80375   ])"
      ]
     },
     "execution_count": 60,
     "metadata": {},
     "output_type": "execute_result"
    }
   ],
   "source": [
    "accuracies"
   ]
  },
  {
   "cell_type": "code",
   "execution_count": 61,
   "metadata": {},
   "outputs": [
    {
     "data": {
      "text/plain": [
       "0.7946249975636602"
      ]
     },
     "execution_count": 61,
     "metadata": {},
     "output_type": "execute_result"
    }
   ],
   "source": [
    "mean = accuracies.mean()\n",
    "mean"
   ]
  },
  {
   "cell_type": "code",
   "execution_count": 62,
   "metadata": {},
   "outputs": [
    {
     "data": {
      "text/plain": [
       "0.015871061742082828"
      ]
     },
     "execution_count": 62,
     "metadata": {},
     "output_type": "execute_result"
    }
   ],
   "source": [
    "variance = accuracies.std()\n",
    "variance"
   ]
  },
  {
   "cell_type": "code",
   "execution_count": 63,
   "metadata": {},
   "outputs": [
    {
     "data": {
      "text/plain": [
       "<keras.wrappers.scikit_learn.KerasClassifier at 0x20a1841fc18>"
      ]
     },
     "execution_count": 63,
     "metadata": {},
     "output_type": "execute_result"
    }
   ],
   "source": [
    "KerasClassifier(build_fn= build_classifier, batch_size = 10, nb_epoch = 100)"
   ]
  },
  {
   "cell_type": "code",
   "execution_count": 64,
   "metadata": {},
   "outputs": [
    {
     "data": {
      "text/plain": [
       "array([0.805     , 0.7925    , 0.77625   , 0.79125   , 0.79125   ,\n",
       "       0.82874999, 0.79625   , 0.76875   , 0.79375   , 0.80375   ])"
      ]
     },
     "execution_count": 64,
     "metadata": {},
     "output_type": "execute_result"
    }
   ],
   "source": [
    "cross_val_score(estimator= classifier, X= X_train, y= y_train, cv = 10, n_jobs= -1)"
   ]
  },
  {
   "cell_type": "markdown",
   "metadata": {},
   "source": [
    "## Tunning the ANN (Improving with gridsearchCV)"
   ]
  },
  {
   "cell_type": "code",
   "execution_count": 65,
   "metadata": {},
   "outputs": [],
   "source": [
    "def build_classifier(optimizer):\n",
    "    classifier = Sequential()\n",
    "    classifier.add(Dense(kernel_initializer = \"uniform\", units = 6, activation = \"relu\", input_dim = 11))\n",
    "    classifier.add(Dense(kernel_initializer = \"uniform\", units = 6, activation = \"relu\"))\n",
    "    classifier.add(Dense(kernel_initializer = \"uniform\", units = 1, activation = \"sigmoid\"))\n",
    "    classifier.compile(optimizer= optimizer, loss = \"binary_crossentropy\", metrics = ['accuracy'])\n",
    "    return classifier"
   ]
  },
  {
   "cell_type": "code",
   "execution_count": 66,
   "metadata": {},
   "outputs": [],
   "source": [
    "classifier = KerasClassifier(build_fn= build_classifier)\n",
    "parameters = {'batch_size':[25,32],\n",
    "              'nb_epoch':[100,500],\n",
    "              'optimizer':['adam', 'rmsprop']}"
   ]
  },
  {
   "cell_type": "code",
   "execution_count": 67,
   "metadata": {},
   "outputs": [
    {
     "name": "stdout",
     "output_type": "stream",
     "text": [
      "Epoch 1/1\n",
      "7200/7200 [==============================] - 1s 87us/step - loss: 0.5621 - acc: 0.7929\n",
      "Epoch 1/1\n",
      "7200/7200 [==============================] - 1s 89us/step - loss: 0.5520 - acc: 0.7946\n",
      "Epoch 1/1\n",
      "7200/7200 [==============================] - 1s 94us/step - loss: 0.5554 - acc: 0.7957\n",
      "Epoch 1/1\n",
      "7200/7200 [==============================] - 1s 100us/step - loss: 0.5537 - acc: 0.7933\n",
      "Epoch 1/1\n",
      "7200/7200 [==============================] - 1s 99us/step - loss: 0.5728 - acc: 0.7946\n",
      "Epoch 1/1\n",
      "7200/7200 [==============================] - 1s 107us/step - loss: 0.5729 - acc: 0.7896\n",
      "Epoch 1/1\n",
      "7200/7200 [==============================] - 1s 109us/step - loss: 0.5470 - acc: 0.7936\n",
      "Epoch 1/1\n",
      "7200/7200 [==============================] - 1s 112us/step - loss: 0.5611 - acc: 0.7965\n",
      "Epoch 1/1\n",
      "7200/7200 [==============================] - 1s 117us/step - loss: 0.5601 - acc: 0.7931\n",
      "Epoch 1/1\n",
      "7200/7200 [==============================] - 1s 122us/step - loss: 0.5694 - acc: 0.7918\n",
      "Epoch 1/1\n",
      "7200/7200 [==============================] - 1s 119us/step - loss: 0.6051 - acc: 0.7919\n",
      "Epoch 1/1\n",
      "7200/7200 [==============================] - 1s 119us/step - loss: 0.6004 - acc: 0.7940\n",
      "Epoch 1/1\n",
      "7200/7200 [==============================] - 1s 123us/step - loss: 0.6306 - acc: 0.7944\n",
      "Epoch 1/1\n",
      "7200/7200 [==============================] - 1s 127us/step - loss: 0.5925 - acc: 0.7931\n",
      "Epoch 1/1\n",
      "7200/7200 [==============================] - 1s 131us/step - loss: 0.5815 - acc: 0.7951\n",
      "Epoch 1/1\n",
      "7200/7200 [==============================] - 1s 134us/step - loss: 0.5748 - acc: 0.7897\n",
      "Epoch 1/1\n",
      "7200/7200 [==============================] - 1s 136us/step - loss: 0.5861 - acc: 0.7926\n",
      "Epoch 1/1\n",
      "7200/7200 [==============================] - 1s 139us/step - loss: 0.5748 - acc: 0.7965\n",
      "Epoch 1/1\n",
      "7200/7200 [==============================] - 1s 142us/step - loss: 0.6046 - acc: 0.7926\n",
      "Epoch 1/1\n",
      "7200/7200 [==============================] - 1s 145us/step - loss: 0.6120 - acc: 0.7921\n",
      "Epoch 1/1\n",
      "7200/7200 [==============================] - 1s 165us/step - loss: 0.5851 - acc: 0.7907\n",
      "Epoch 1/1\n",
      "7200/7200 [==============================] - 1s 163us/step - loss: 0.5640 - acc: 0.7929\n",
      "Epoch 1/1\n",
      "7200/7200 [==============================] - 1s 167us/step - loss: 0.5555 - acc: 0.7967\n",
      "Epoch 1/1\n",
      "7200/7200 [==============================] - 1s 176us/step - loss: 0.5985 - acc: 0.7933\n",
      "Epoch 1/1\n",
      "7200/7200 [==============================] - 1s 200us/step - loss: 0.5454 - acc: 0.7949\n",
      "Epoch 1/1\n",
      "7200/7200 [==============================] - 1s 194us/step - loss: 0.5585 - acc: 0.7899\n",
      "Epoch 1/1\n",
      "7200/7200 [==============================] - 2s 212us/step - loss: 0.5763 - acc: 0.7926\n",
      "Epoch 1/1\n",
      "7200/7200 [==============================] - 1s 197us/step - loss: 0.5512 - acc: 0.7967\n",
      "Epoch 1/1\n",
      "7200/7200 [==============================] - 1s 198us/step - loss: 0.5542 - acc: 0.7939\n",
      "Epoch 1/1\n",
      "7200/7200 [==============================] - 2s 217us/step - loss: 0.5660 - acc: 0.7935\n",
      "Epoch 1/1\n",
      "7200/7200 [==============================] - 2s 242us/step - loss: 0.5875 - acc: 0.7931\n",
      "Epoch 1/1\n",
      "7200/7200 [==============================] - 2s 242us/step - loss: 0.5674 - acc: 0.7944\n",
      "Epoch 1/1\n",
      "7200/7200 [==============================] - 2s 221us/step - loss: 0.5877 - acc: 0.7946\n",
      "Epoch 1/1\n",
      "7200/7200 [==============================] - 1s 207us/step - loss: 0.5941 - acc: 0.7946\n",
      "Epoch 1/1\n",
      "7200/7200 [==============================] - 1s 207us/step - loss: 0.6081 - acc: 0.7939\n",
      "Epoch 1/1\n",
      "7200/7200 [==============================] - 2s 212us/step - loss: 0.5944 - acc: 0.7899\n",
      "Epoch 1/1\n",
      "7200/7200 [==============================] - 2s 219us/step - loss: 0.6006 - acc: 0.7924\n",
      "Epoch 1/1\n",
      "7200/7200 [==============================] - 2s 217us/step - loss: 0.5812 - acc: 0.7965\n",
      "Epoch 1/1\n",
      "7200/7200 [==============================] - 2s 226us/step - loss: 0.5831 - acc: 0.7943\n",
      "Epoch 1/1\n",
      "7200/7200 [==============================] - 2s 223us/step - loss: 0.6047 - acc: 0.7919\n",
      "Epoch 1/1\n",
      "7200/7200 [==============================] - 2s 229us/step - loss: 0.6609 - acc: 0.7917\n",
      "Epoch 1/1\n",
      "7200/7200 [==============================] - 2s 237us/step - loss: 0.5880 - acc: 0.7928\n",
      "Epoch 1/1\n",
      "7200/7200 [==============================] - 2s 242us/step - loss: 0.5808 - acc: 0.7961\n",
      "Epoch 1/1\n",
      "7200/7200 [==============================] - 2s 243us/step - loss: 0.5899 - acc: 0.7936\n",
      "Epoch 1/1\n",
      "7200/7200 [==============================] - 2s 248us/step - loss: 0.5713 - acc: 0.7949\n",
      "Epoch 1/1\n",
      "7200/7200 [==============================] - 2s 257us/step - loss: 0.5834 - acc: 0.7893\n",
      "Epoch 1/1\n",
      "7200/7200 [==============================] - 2s 279us/step - loss: 0.5984 - acc: 0.7924\n",
      "Epoch 1/1\n",
      "7200/7200 [==============================] - 2s 293us/step - loss: 0.5668 - acc: 0.7974\n",
      "Epoch 1/1\n",
      "7200/7200 [==============================] - 2s 303us/step - loss: 0.5824 - acc: 0.7940\n",
      "Epoch 1/1\n",
      "7200/7200 [==============================] - 2s 295us/step - loss: 0.5840 - acc: 0.7928\n",
      "Epoch 1/1\n",
      "7200/7200 [==============================] - 2s 277us/step - loss: 0.6059 - acc: 0.7924\n",
      "Epoch 1/1\n",
      "7200/7200 [==============================] - 2s 284us/step - loss: 0.6256 - acc: 0.7925\n",
      "Epoch 1/1\n",
      "7200/7200 [==============================] - 2s 290us/step - loss: 0.6255 - acc: 0.7939\n",
      "Epoch 1/1\n",
      "7200/7200 [==============================] - 2s 287us/step - loss: 0.5984 - acc: 0.7949\n",
      "Epoch 1/1\n",
      "7200/7200 [==============================] - 2s 298us/step - loss: 0.6148 - acc: 0.7939\n",
      "Epoch 1/1\n",
      "7200/7200 [==============================] - 2s 340us/step - loss: 0.6446 - acc: 0.7875\n",
      "Epoch 1/1\n",
      "7200/7200 [==============================] - 2s 305us/step - loss: 0.5836 - acc: 0.7943\n",
      "Epoch 1/1\n",
      "7200/7200 [==============================] - 2s 298us/step - loss: 0.6243 - acc: 0.7961\n",
      "Epoch 1/1\n",
      "7200/7200 [==============================] - 2s 316us/step - loss: 0.6428 - acc: 0.7913\n",
      "Epoch 1/1\n",
      "7200/7200 [==============================] - 2s 313us/step - loss: 0.6310 - acc: 0.7919\n",
      "Epoch 1/1\n",
      "7200/7200 [==============================] - 2s 329us/step - loss: 0.6024 - acc: 0.7921\n",
      "Epoch 1/1\n",
      "7200/7200 [==============================] - 2s 320us/step - loss: 0.6084 - acc: 0.7932\n",
      "Epoch 1/1\n",
      "7200/7200 [==============================] - 2s 325us/step - loss: 0.5914 - acc: 0.7946\n",
      "Epoch 1/1\n",
      "7200/7200 [==============================] - 2s 346us/step - loss: 0.5950 - acc: 0.7939\n",
      "Epoch 1/1\n",
      "7200/7200 [==============================] - 2s 334us/step - loss: 0.6006 - acc: 0.7943\n",
      "Epoch 1/1\n",
      "7200/7200 [==============================] - 3s 380us/step - loss: 0.5825 - acc: 0.7906\n",
      "Epoch 1/1\n",
      "7200/7200 [==============================] - 3s 386us/step - loss: 0.5790 - acc: 0.7935\n",
      "Epoch 1/1\n",
      "7200/7200 [==============================] - 3s 382us/step - loss: 0.5855 - acc: 0.7958\n",
      "Epoch 1/1\n",
      "7200/7200 [==============================] - 3s 421us/step - loss: 0.5722 - acc: 0.7940\n",
      "Epoch 1/1\n",
      "7200/7200 [==============================] - 3s 430us/step - loss: 0.5866 - acc: 0.7911\n",
      "Epoch 1/1\n",
      "7200/7200 [==============================] - 3s 383us/step - loss: 0.6403 - acc: 0.7925\n",
      "Epoch 1/1\n",
      "7200/7200 [==============================] - 3s 393us/step - loss: 0.6087 - acc: 0.7946\n",
      "Epoch 1/1\n",
      "7200/7200 [==============================] - 3s 373us/step - loss: 0.5943 - acc: 0.7961\n",
      "Epoch 1/1\n",
      "7200/7200 [==============================] - 3s 370us/step - loss: 0.6431 - acc: 0.7931\n",
      "Epoch 1/1\n",
      "7200/7200 [==============================] - 3s 398us/step - loss: 0.5846 - acc: 0.7946\n",
      "Epoch 1/1\n",
      "7200/7200 [==============================] - 3s 379us/step - loss: 0.6479 - acc: 0.7882\n",
      "Epoch 1/1\n",
      "7200/7200 [==============================] - 3s 382us/step - loss: 0.5810 - acc: 0.7943\n",
      "Epoch 1/1\n",
      "7200/7200 [==============================] - 3s 400us/step - loss: 0.6143 - acc: 0.7940\n",
      "Epoch 1/1\n",
      "7200/7200 [==============================] - 3s 389us/step - loss: 0.6136 - acc: 0.7932\n",
      "Epoch 1/1\n",
      "7200/7200 [==============================] - 3s 409us/step - loss: 0.6287 - acc: 0.7922\n",
      "Epoch 1/1\n",
      "8000/8000 [==============================] - 3s 382us/step - loss: 0.5451 - acc: 0.7932\n"
     ]
    }
   ],
   "source": [
    "grid_search = GridSearchCV(estimator= classifier, \n",
    "                           param_grid= parameters,\n",
    "                          scoring='accuracy',\n",
    "                          cv = 10)\n",
    "grid_search = grid_search.fit(X_train, y_train)"
   ]
  },
  {
   "cell_type": "code",
   "execution_count": 68,
   "metadata": {},
   "outputs": [],
   "source": [
    "best_parametrs = grid_search.best_params_\n",
    "best_accuracy = grid_search.best_score_     "
   ]
  },
  {
   "cell_type": "code",
   "execution_count": 69,
   "metadata": {},
   "outputs": [
    {
     "data": {
      "text/plain": [
       "{'batch_size': 25, 'nb_epoch': 100, 'optimizer': 'adam'}"
      ]
     },
     "execution_count": 69,
     "metadata": {},
     "output_type": "execute_result"
    }
   ],
   "source": [
    "best_parametrs"
   ]
  },
  {
   "cell_type": "code",
   "execution_count": 70,
   "metadata": {},
   "outputs": [
    {
     "data": {
      "text/plain": [
       "0.7945"
      ]
     },
     "execution_count": 70,
     "metadata": {},
     "output_type": "execute_result"
    }
   ],
   "source": [
    "best_accuracy"
   ]
  },
  {
   "cell_type": "code",
   "execution_count": null,
   "metadata": {},
   "outputs": [],
   "source": []
  }
 ],
 "metadata": {
  "kernelspec": {
   "display_name": "Python 3",
   "language": "python",
   "name": "python3"
  },
  "language_info": {
   "codemirror_mode": {
    "name": "ipython",
    "version": 3
   },
   "file_extension": ".py",
   "mimetype": "text/x-python",
   "name": "python",
   "nbconvert_exporter": "python",
   "pygments_lexer": "ipython3",
   "version": "3.7.3"
  }
 },
 "nbformat": 4,
 "nbformat_minor": 2
}
